{
 "cells": [
  {
   "cell_type": "code",
   "execution_count": 1,
   "id": "477291ce-baeb-444b-bdfa-2fc70fea7f46",
   "metadata": {},
   "outputs": [],
   "source": [
    "import requests\n",
    "import geopy.distance\n",
    "import pandas as pd\n",
    "from itertools import chain\n",
    "import requests\n",
    "import datetime\n",
    "import os\n",
    "from toolz import pipe\n",
    "\n",
    "url = \"https://www.airbnb.com/api/v3/ExploreSections\"\n",
    "\n",
    "querystring = {\"operationName\":\"ExploreSections\",\n",
    "               \"locale\":\"en\",\n",
    "               \"currency\":\"USD\",\n",
    "               \"variables\":\"{\\\"isInitialLoad\\\":true,\\\"hasLoggedIn\\\":true,\\\"cdnCacheSafe\\\":false,\\\"source\\\":\\\"EXPLORE\\\",\\\"exploreRequest\\\":{\\\"metadataOnly\\\":false,\\\"version\\\":\\\"1.8.3\\\",\\\"placeId\\\":\\\"ChIJW8vuDrriaocRRu1CVaEuuW8\\\",\\\"checkin\\\":\\\"2022-10-02\\\",\\\"checkout\\\":\\\"2022-10-03\\\",\\\"datePickerType\\\":\\\"calendar\\\",\\\"adults\\\":2,\\\"searchType\\\":\\\"unknown\\\",\\\"tabId\\\":\\\"home_tab\\\",\\\"flexibleTripLengths\\\":[\\\"one_week\\\"],\\\"priceFilterNumNights\\\":1,\\\"refinementPaths\\\":[\\\"/homes\\\"],\\\"federatedSearchSessionId\\\":\\\"85b528f4-8e63-4b2c-a35a-ebba07489c1d\\\",\\\"itemsOffset\\\":0,\\\"sectionOffset\\\":2,\\\"query\\\":\\\"Jefferson, Colorado, United States\\\",\\\"itemsPerGrid\\\":20,\\\"cdnCacheSafe\\\":false,\\\"treatmentFlags\\\":[\\\"flex_destinations_june_2021_launch_web_treatment\\\",\\\"new_filter_bar_v2_fm_header\\\",\\\"merch_header_breakpoint_expansion_web\\\",\\\"flexible_dates_12_month_lead_time\\\",\\\"storefronts_nov23_2021_homepage_web_treatment\\\",\\\"lazy_load_flex_search_map_compact\\\",\\\"lazy_load_flex_search_map_wide\\\",\\\"im_flexible_may_2022_treatment\\\",\\\"im_flexible_may_2022_treatment\\\",\\\"flex_v2_review_counts_treatment\\\",\\\"flexible_dates_options_extend_one_three_seven_days\\\",\\\"super_date_flexibility\\\",\\\"micro_flex_improvements\\\",\\\"micro_flex_show_by_default\\\",\\\"search_input_placeholder_phrases\\\",\\\"pets_fee_treatment\\\"],\\\"screenSize\\\":\\\"large\\\",\\\"isInitialLoad\\\":true,\\\"hasLoggedIn\\\":true}}\",\"extensions\":\"{\\\"persistedQuery\\\":{\\\"version\\\":1,\\\"sha256Hash\\\":\\\"ef48c5cbc4059de87060d37d4c62b72ad708e5ffba74fb8f042c970f0664f0c5\\\"}}\"}\n",
    "\n",
    "headers = {\n",
    "    \"authority\": \"www.airbnb.com\",\n",
    "    \"accept\": \"*/*\",\n",
    "    \"accept-language\": \"en-US,en;q=0.9\",\n",
    "    \"content-type\": \"application/json\",\n",
    "    \"referer\": \"https://www.airbnb.com/s/Jefferson--Colorado--United-States/homes?flexible_trip_dates%5B%5D=october&date_picker_type=flexible_dates&search_type=unknown&tab_id=home_tab&adults=2&refinement_paths%5B%5D=%2Fhomes&flexible_trip_lengths%5B%5D=weekend_trip&federated_search_session_id=bbcfac66-2fe4-40f1-a432-b03d9eccf31a&pagination_search=true&items_offset=0&section_offset=3\",\n",
    "    \"sec-ch-ua\": '\" Not A;Brand\";v=\"99\", \"Chromium\";v=\"102\", \"Google Chrome\";v=\"102\"',\n",
    "    \"sec-ch-ua-mobile\": \"?0\",\n",
    "    \"sec-ch-ua-platform\": '\"macOS\"',\n",
    "    \"sec-fetch-dest\": \"empty\",\n",
    "    \"sec-fetch-mode\": \"cors\",\n",
    "    \"sec-fetch-site\": \"same-origin\",\n",
    "    \"user-agent\": \"Mozilla/5.0 (Macintosh; Intel Mac OS X 10_15_7) AppleWebKit/537.36 (KHTML, like Gecko) Chrome/102.0.5005.61 Safari/537.36\",\n",
    "    \"x-airbnb-api-key\": \"d306zoyjsyarp7ifhu67rjxn52tv0t20\",\n",
    "    \"x-airbnb-graphql-platform\": \"web\",\n",
    "    \"x-airbnb-graphql-platform-client\": \"minimalist-niobe\",\n",
    "    \"x-airbnb-supports-airlock-v2\": \"true\",\n",
    "    \"x-csrf-without-token\": \"1\",\n",
    "    \"x-niobe-short-circuited\": \"true\"\n",
    "}"
   ]
  },
  {
   "cell_type": "code",
   "execution_count": 2,
   "id": "aa8f8ca9-82ba-4f32-b5f1-a78aedcb2406",
   "metadata": {},
   "outputs": [],
   "source": [
    "def var_edit(checkin, checkout, itemindex):\n",
    "    \"\"\"\n",
    "    format yyyy-mm-dd\n",
    "    \"\"\"\n",
    "    return '{\\\"isInitialLoad\\\":true,\\\"hasLoggedIn\\\":true,\\\"cdnCacheSafe\\\":false,\\\"source\\\":\\\"EXPLORE\\\",\\\"exploreRequest\\\":{\\\"metadataOnly\\\":false,\\\"version\\\":\\\"1.8.3\\\",\\\"placeId\\\":\\\"ChIJW8vuDrriaocRRu1CVaEuuW8\\\",\\\"checkin\\\":\\\"' +\\\n",
    "    checkin + '\\\",\\\"checkout\\\":\\\"' +\\\n",
    "    checkout + '\\\",\\\"datePickerType\\\":\\\"calendar\\\",\\\"adults\\\":2,\\\"searchType\\\":\\\"unknown\\\",\\\"tabId\\\":\\\"home_tab\\\",\\\"flexibleTripLengths\\\":[\\\"one_week\\\"],\\\"priceFilterNumNights\\\":1,\\\"refinementPaths\\\":[\\\"/homes\\\"],\\\"federatedSearchSessionId\\\":\\\"85b528f4-8e63-4b2c-a35a-ebba07489c1d\\\",\\\"itemsOffset\\\":' +\\\n",
    "    str(itemindex) + ',\\\"sectionOffset\\\":2,\\\"query\\\":\\\"Jefferson, Colorado, United States\\\",\\\"itemsPerGrid\\\":20,\\\"cdnCacheSafe\\\":false,\\\"treatmentFlags\\\":[\\\"flex_destinations_june_2021_launch_web_treatment\\\",\\\"new_filter_bar_v2_fm_header\\\",\\\"merch_header_breakpoint_expansion_web\\\",\\\"flexible_dates_12_month_lead_time\\\",\\\"storefronts_nov23_2021_homepage_web_treatment\\\",\\\"lazy_load_flex_search_map_compact\\\",\\\"lazy_load_flex_search_map_wide\\\",\\\"im_flexible_may_2022_treatment\\\",\\\"im_flexible_may_2022_treatment\\\",\\\"flex_v2_review_counts_treatment\\\",\\\"flexible_dates_options_extend_one_three_seven_days\\\",\\\"super_date_flexibility\\\",\\\"micro_flex_improvements\\\",\\\"micro_flex_show_by_default\\\",\\\"search_input_placeholder_phrases\\\",\\\"pets_fee_treatment\\\"],\\\"screenSize\\\":\\\"large\\\",\\\"isInitialLoad\\\":true,\\\"hasLoggedIn\\\":true}}\",\"extensions\":\"{\\\"persistedQuery\\\":{\\\"version\\\":1,\\\"sha256Hash\\\":\\\"ef48c5cbc4059de87060d37d4c62b72ad708e5ffba74fb8f042c970f0664f0c5\\\"}'\n"
   ]
  },
  {
   "cell_type": "code",
   "execution_count": 3,
   "id": "6f355e39-545f-43fb-adb0-2808d02c1b3c",
   "metadata": {},
   "outputs": [],
   "source": [
    "def pull_cost_breakdown(pricedetailsobj):\n",
    "    try:\n",
    "        price_dict = pricedetailsobj[0]\n",
    "        return ' | '.join([\n",
    "            f\"{key['description']}: {key['priceString']}\" for key in price_dict['items']]\n",
    "        )\n",
    "    except:\n",
    "        return 'unable to parse'"
   ]
  },
  {
   "cell_type": "code",
   "execution_count": 4,
   "id": "5f553f0e-dd6b-4203-8d51-3f328e218728",
   "metadata": {},
   "outputs": [],
   "source": [
    "items = list(range(0, 250, 20))\n"
   ]
  },
  {
   "cell_type": "code",
   "execution_count": 25,
   "id": "61d791ea-c431-4b6b-8ea8-256e2b7e152c",
   "metadata": {},
   "outputs": [],
   "source": [
    "\n",
    "checkin_date = '2022-11-01'\n",
    "checkout_date = '2022-11-10'\n"
   ]
  },
  {
   "cell_type": "code",
   "execution_count": 6,
   "id": "4c013cbd-0623-44d2-bed2-61a95302099a",
   "metadata": {},
   "outputs": [],
   "source": [
    "relevant_columns = [\n",
    "        'name',\n",
    "        'distanceFromTarryallCabin',\n",
    "        'avgRating',\n",
    "        'reviewsCount',\n",
    "        'isNewListing',\n",
    "        'isSuperhost',\n",
    "        'amenities',\n",
    "        'structuredStayDisplayPrice.primaryLine.accessibilityLabel',\n",
    "        'costBreakdown',\n",
    "        'title',\n",
    "        'personCapacity',\n",
    "        'availableBeds',\n",
    "        'start_date',\n",
    "        'timeBooked',\n",
    "        'distanceFromTarryallCabin_w',\n",
    "\n",
    "    ]"
   ]
  },
  {
   "cell_type": "code",
   "execution_count": 28,
   "id": "90adb1a5-e8d9-4247-8902-f8fe5cefefcd",
   "metadata": {
    "tags": []
   },
   "outputs": [],
   "source": [
    "def parse_bnb_info(df):\n",
    "    return df.assign(\n",
    "            **{\n",
    "                'availableBeds': df.loc[:, 'structuredContent.primaryLine'].apply(\n",
    "                    lambda x: ';'.join([m['body'] for m in x])\n",
    "                ),\n",
    "                'costBreakdown': df.loc[:, 'structuredStayDisplayPrice.explanationData.priceDetails'].apply(\n",
    "                    pull_cost_breakdown\n",
    "                ),\n",
    "                'coords': df.apply(\n",
    "                    lambda x: (x.lat, x.lng),\n",
    "                    axis=1\n",
    "                ),\n",
    "                'amenities': df.loc[:, 'previewAmenityNames'].apply(\n",
    "                    lambda listing_list:\n",
    "                    ' | '.join(listing_list)\n",
    "                )\n",
    "            }\n",
    "        )\n",
    "\n",
    "\n",
    "def calc_distance_cols(df):\n",
    "    #  use as static metric in below calc\n",
    "    tarryall = (39.296114, -105.7186119)\n",
    "    \n",
    "    df = df.assign(\n",
    "            **{\n",
    "                'distanceFromTarryallCabin_w': df.coords.apply(\n",
    "                    lambda coordinates:\n",
    "                    geopy.distance.geodesic(tarryall, coordinates).mi\n",
    "                ),\n",
    "            }\n",
    "        )\n",
    "    return df.assign(\n",
    "            **{\n",
    "                'distanceFromTarryallCabin': df.distanceFromTarryallCabin_w.apply(\n",
    "                    lambda coordinates:\n",
    "                    f'{coordinates} miles'\n",
    "                ),\n",
    "\n",
    "            }\n",
    "        )\n",
    "\n",
    "\n",
    "def total_stays_for_time(checkin, checkout, items):\n",
    "    \n",
    "    rel_cols = relevant_columns\n",
    "    \n",
    "    # set up all the requests to the api for 20-items-per-page approach\n",
    "\n",
    "    final_res = list()\n",
    "    for item in items:\n",
    "        querystring['variables'] = var_edit(checkin, checkout, item)\n",
    "        final_res.append(\n",
    "            requests.request(\"GET\", url, headers=headers, params=querystring)\n",
    "        )\n",
    "\n",
    "    #  remove failed requests\n",
    "    final_res = list(\n",
    "        filter(\n",
    "            None,\n",
    "            final_res\n",
    "        )\n",
    "    )\n",
    "\n",
    "    #  drilldown to relevant section in airbnb (as of Aug2022)\n",
    "    json_total_data = list(\n",
    "        map(\n",
    "            lambda response:\n",
    "            response.json()['data']['presentation']['explore']['sections']['sections'][2]['section']['child']['section']['items'],\n",
    "            final_res\n",
    "        )\n",
    "    )\n",
    "\n",
    "    #  some vals are getting mixed, store to QA\n",
    "    backup_json_total = json_total_data\n",
    "\n",
    "    #  update/consolidate information into a single dict\n",
    "    list(\n",
    "        chain(\n",
    "            *list(\n",
    "                map(\n",
    "                    lambda stays_chunk:\n",
    "                        map(\n",
    "                        lambda stay:\n",
    "                            # stay['listing'].update(stay['pricingQuote']['structuredStayDisplayPrice']),\n",
    "                            stay['listing'].update(stay['pricingQuote']),\n",
    "                            stays_chunk\n",
    "                    ),\n",
    "                    json_total_data\n",
    "                )\n",
    "            )\n",
    "        )\n",
    "    )\n",
    "\n",
    "\n",
    "    #  merge list of lists for ease of use\n",
    "    json_total_listings = list(\n",
    "        chain(\n",
    "            *json_total_data\n",
    "        )\n",
    "    )\n",
    "    \n",
    "\n",
    "    df = pipe(\n",
    "        pd.concat(  \n",
    "            list(\n",
    "                map(\n",
    "                    lambda stay:\n",
    "                        pd.json_normalize(\n",
    "                            stay['listing']\n",
    "                        ),\n",
    "                    json_total_listings\n",
    "                )\n",
    "            )\n",
    "        ).assign(\n",
    "            **{\n",
    "                'timeBooked': f'{checkin}:{checkout}',\n",
    "                'start_date': pd.to_datetime(checkin),\n",
    "            }\n",
    "        ),\n",
    "        parse_bnb_info,\n",
    "        calc_distance_cols,\n",
    "        lambda all_listings_in_jefferson:\n",
    "        all_listings_in_jefferson[rel_cols].drop_duplicates(\n",
    "        ).reset_index(\n",
    "        ).drop(\n",
    "            columns='index'\n",
    "        ),\n",
    "    )\n",
    "    return df.sort_values(\n",
    "            'distanceFromTarryallCabin_w'\n",
    "        )\n"
   ]
  },
  {
   "cell_type": "code",
   "execution_count": 8,
   "id": "93dd7474-e15f-4360-9147-f0f06e643283",
   "metadata": {
    "tags": []
   },
   "outputs": [],
   "source": [
    "# df = total_stays_for_time(checkin_date, checkout_date, items)\n",
    "# df"
   ]
  },
  {
   "cell_type": "code",
   "execution_count": 9,
   "id": "a72dadc8-7564-4ff6-b350-93dc57f29310",
   "metadata": {},
   "outputs": [],
   "source": [
    "def calc_time(start, end, daysbetween):\n",
    "    time_iters = list(range(0, (end-start).days, daysbetween))\n",
    "    dates = []\n",
    "    for i in range(len(time_iters)):\n",
    "        try: \n",
    "            dates.append(\n",
    "                (\n",
    "                    str(start + datetime.timedelta(days=time_iters[i])),\n",
    "                    str(start + datetime.timedelta(days=time_iters[i+1]))\n",
    "                )\n",
    "            )\n",
    "        except IndexError:\n",
    "            continue\n",
    "    return dates"
   ]
  },
  {
   "cell_type": "code",
   "execution_count": 10,
   "id": "820d7ea2-1c9d-485d-ad81-99d964dbfc51",
   "metadata": {},
   "outputs": [],
   "source": [
    "start = datetime.date(2022,11,1)\n",
    "end = datetime.date(2022,12,1)\n",
    "\n",
    "iterations = list(range(0, 40, 20))\n",
    "two_dates = calc_time(start, end, 2)\n",
    "weekly_dates = calc_time(start, end, 7)\n"
   ]
  },
  {
   "cell_type": "code",
   "execution_count": 11,
   "id": "9c84a519-7577-4e88-a1b2-3417a42846f8",
   "metadata": {},
   "outputs": [
    {
     "data": {
      "text/plain": [
       "[('2022-11-01', '2022-11-08'),\n",
       " ('2022-11-08', '2022-11-15'),\n",
       " ('2022-11-15', '2022-11-22'),\n",
       " ('2022-11-22', '2022-11-29')]"
      ]
     },
     "execution_count": 11,
     "metadata": {},
     "output_type": "execute_result"
    }
   ],
   "source": [
    "weekly_dates"
   ]
  },
  {
   "cell_type": "code",
   "execution_count": 12,
   "id": "6f44f4c3-87e2-4a21-817a-5c4bfce414c4",
   "metadata": {},
   "outputs": [
    {
     "data": {
      "text/plain": [
       "(28, 8)"
      ]
     },
     "execution_count": 12,
     "metadata": {},
     "output_type": "execute_result"
    }
   ],
   "source": [
    "len(two_dates) * len(iterations), len(weekly_dates) * len(iterations)"
   ]
  },
  {
   "cell_type": "code",
   "execution_count": 30,
   "id": "22237800-8d70-4109-8aff-5bbac5db5edd",
   "metadata": {},
   "outputs": [],
   "source": [
    "two_days_booking = pd.concat(\n",
    "    list(\n",
    "        map(\n",
    "            lambda date:\n",
    "            total_stays_for_time(*date, iterations),\n",
    "            two_dates\n",
    "        )\n",
    "    )\n",
    ")\n"
   ]
  },
  {
   "cell_type": "code",
   "execution_count": 31,
   "id": "aa162a56-d63d-4309-bcf7-f5b93a0c7f8a",
   "metadata": {},
   "outputs": [],
   "source": [
    "weekly_booking = pd.concat(\n",
    "    list(\n",
    "        map(\n",
    "            lambda date:\n",
    "            total_stays_for_time(*date, iterations),\n",
    "            weekly_dates\n",
    "        )\n",
    "    )\n",
    ")"
   ]
  },
  {
   "cell_type": "code",
   "execution_count": 32,
   "id": "ec83eecb-f12d-4dc2-babb-5fb152e1febd",
   "metadata": {
    "tags": []
   },
   "outputs": [],
   "source": [
    "two_days_booking.drop_duplicates(inplace=True)\n",
    "weekly_booking.drop_duplicates(inplace=True)\n",
    "\n",
    "twod_nodup = two_days_booking.drop_duplicates(['name', 'costBreakdown'])\n",
    "weekly_nodup = weekly_booking.drop_duplicates(['name', 'costBreakdown'])"
   ]
  },
  {
   "cell_type": "code",
   "execution_count": 33,
   "id": "c2bc3072-f70a-4859-b506-ec8303e87a11",
   "metadata": {},
   "outputs": [
    {
     "data": {
      "text/plain": [
       "((267, 15), (267, 15))"
      ]
     },
     "execution_count": 33,
     "metadata": {},
     "output_type": "execute_result"
    }
   ],
   "source": [
    "twod_nodup[~(twod_nodup.loc[:, 'costBreakdown'] == 'unable to parse')].shape, twod_nodup.shape"
   ]
  },
  {
   "cell_type": "code",
   "execution_count": 34,
   "id": "fcfeb658-cdd8-4f00-9ac2-a60e54034900",
   "metadata": {},
   "outputs": [],
   "source": [
    "writer = pd.ExcelWriter(\n",
    "    os.path.join(\n",
    "        os.getcwd(),\n",
    "        r'airbnb_info/allListingsNovember.xlsx'\n",
    "    ), \n",
    "    engine='openpyxl'\n",
    ")\n",
    "\n",
    "twod_nodup[~(twod_nodup.loc[:, 'costBreakdown'] == 'unable to parse')].sort_values(\n",
    "    ['distanceFromTarryallCabin', 'name']\n",
    ").to_excel(writer, sheet_name='two_day_bookings_noDuplicates', index=False)\n",
    "\n",
    "two_days_booking[~(two_days_booking.loc[:, 'costBreakdown'] == 'unable to parse')].sort_values(\n",
    "    ['distanceFromTarryallCabin', 'name']\n",
    ").to_excel(writer, sheet_name='two_day_bookings_All', index=False)\n",
    "\n",
    "weekly_booking[~(weekly_booking.loc[:, 'costBreakdown'] == 'unable to parse')].sort_values(\n",
    "    ['distanceFromTarryallCabin', 'name']\n",
    ").to_excel(writer, sheet_name='Weekly_bookings_All', index=False)\n",
    "\n",
    "weekly_nodup[~(weekly_nodup.loc[:, 'costBreakdown'] == 'unable to parse')].sort_values(\n",
    "    ['distanceFromTarryallCabin', 'name']\n",
    ").to_excel(writer, sheet_name='Weekly_bookings_noDuplicates', index=False)\n",
    "\n",
    "writer.save()"
   ]
  },
  {
   "cell_type": "code",
   "execution_count": 20,
   "id": "1c42fa84-eb35-4980-b7b4-98bd7d75a712",
   "metadata": {},
   "outputs": [
    {
     "data": {
      "text/plain": [
       "28   2022-11-01\n",
       "12   2022-11-01\n",
       "29   2022-11-01\n",
       "34   2022-11-01\n",
       "31   2022-11-01\n",
       "        ...    \n",
       "32   2022-11-01\n",
       "24   2022-11-01\n",
       "34   2022-11-01\n",
       "33   2022-11-01\n",
       "25   2022-11-01\n",
       "Name: start_date, Length: 292, dtype: datetime64[ns]"
      ]
     },
     "execution_count": 20,
     "metadata": {},
     "output_type": "execute_result"
    }
   ],
   "source": [
    "two_days_booking.start_date"
   ]
  },
  {
   "cell_type": "code",
   "execution_count": null,
   "id": "89655844-6f29-4694-82e7-eb4eb693383c",
   "metadata": {},
   "outputs": [],
   "source": []
  }
 ],
 "metadata": {
  "kernelspec": {
   "display_name": "Python 3 (ipykernel)",
   "language": "python",
   "name": "python3"
  },
  "language_info": {
   "codemirror_mode": {
    "name": "ipython",
    "version": 3
   },
   "file_extension": ".py",
   "mimetype": "text/x-python",
   "name": "python",
   "nbconvert_exporter": "python",
   "pygments_lexer": "ipython3",
   "version": "3.9.14"
  }
 },
 "nbformat": 4,
 "nbformat_minor": 5
}
